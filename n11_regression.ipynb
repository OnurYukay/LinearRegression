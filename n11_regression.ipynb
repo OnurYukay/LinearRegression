{
 "cells": [
  {
   "cell_type": "code",
   "execution_count": 1,
   "id": "b7754111",
   "metadata": {},
   "outputs": [],
   "source": [
    "import pandas as pd\n",
    "import numpy as np\n",
    "import matplotlib.pyplot as plt\n",
    "import seaborn as sns\n",
    "import statsmodels.api as sm\n",
    "\n",
    "%matplotlib inline"
   ]
  },
  {
   "cell_type": "code",
   "execution_count": 2,
   "id": "0050c556",
   "metadata": {},
   "outputs": [
    {
     "data": {
      "text/html": [
       "<div>\n",
       "<style scoped>\n",
       "    .dataframe tbody tr th:only-of-type {\n",
       "        vertical-align: middle;\n",
       "    }\n",
       "\n",
       "    .dataframe tbody tr th {\n",
       "        vertical-align: top;\n",
       "    }\n",
       "\n",
       "    .dataframe thead th {\n",
       "        text-align: right;\n",
       "    }\n",
       "</style>\n",
       "<table border=\"1\" class=\"dataframe\">\n",
       "  <thead>\n",
       "    <tr style=\"text-align: right;\">\n",
       "      <th></th>\n",
       "      <th>PRICE</th>\n",
       "      <th>SELLER_GRADE</th>\n",
       "      <th>NAME</th>\n",
       "      <th>OPTICAL_DRIVE</th>\n",
       "      <th>USB</th>\n",
       "      <th>BLUETOOTH</th>\n",
       "      <th>SCREEN_SIZE</th>\n",
       "      <th>NO_OF_PROCESSOR_CORES</th>\n",
       "      <th>PROCESSOR_SPEED</th>\n",
       "      <th>DISC_TYPE</th>\n",
       "      <th>...</th>\n",
       "      <th>OPERATING_SYSTEM</th>\n",
       "      <th>SCREEN_RESOLUTION</th>\n",
       "      <th>RAM</th>\n",
       "      <th>PROCESSOR_MODEL</th>\n",
       "      <th>COLOR</th>\n",
       "      <th>PROCESSOR</th>\n",
       "      <th>GPU_CAPACITY</th>\n",
       "      <th>DISC_CAPACITY</th>\n",
       "      <th>HDMI</th>\n",
       "      <th>BRAND</th>\n",
       "    </tr>\n",
       "  </thead>\n",
       "  <tbody>\n",
       "    <tr>\n",
       "      <th>0</th>\n",
       "      <td>7199</td>\n",
       "      <td>10.0</td>\n",
       "      <td>Asus X515EA-BQ945 i3-1115G4 4 GB 256 GB M.2 SS...</td>\n",
       "      <td>Yok</td>\n",
       "      <td>Var</td>\n",
       "      <td>Var</td>\n",
       "      <td>15.6</td>\n",
       "      <td>2.0</td>\n",
       "      <td>3.0</td>\n",
       "      <td>SSD</td>\n",
       "      <td>...</td>\n",
       "      <td>Freedos</td>\n",
       "      <td>1920 x 1080</td>\n",
       "      <td>4</td>\n",
       "      <td>Intel i3-1115G4</td>\n",
       "      <td>Gümüş</td>\n",
       "      <td>3.00 GHz</td>\n",
       "      <td>NaN</td>\n",
       "      <td>256</td>\n",
       "      <td>NaN</td>\n",
       "      <td>Asus</td>\n",
       "    </tr>\n",
       "    <tr>\n",
       "      <th>1</th>\n",
       "      <td>16499</td>\n",
       "      <td>10.0</td>\n",
       "      <td>Asus Tuf Gaming F15 FX506HC-HN409 i5-11400H 8 ...</td>\n",
       "      <td>NaN</td>\n",
       "      <td>Var</td>\n",
       "      <td>Var</td>\n",
       "      <td>15.6</td>\n",
       "      <td>6.0</td>\n",
       "      <td>2.7</td>\n",
       "      <td>SSD</td>\n",
       "      <td>...</td>\n",
       "      <td>Freedos</td>\n",
       "      <td>1920 x 1080</td>\n",
       "      <td>8</td>\n",
       "      <td>Intel i5-11400H</td>\n",
       "      <td>Siyah</td>\n",
       "      <td>6</td>\n",
       "      <td>4</td>\n",
       "      <td>512</td>\n",
       "      <td>Var</td>\n",
       "      <td>Asus</td>\n",
       "    </tr>\n",
       "    <tr>\n",
       "      <th>2</th>\n",
       "      <td>12767</td>\n",
       "      <td>10.0</td>\n",
       "      <td>Monster Huma H4 V5.1 i5-1235U 16 GB 512 GB SSD...</td>\n",
       "      <td>Yok</td>\n",
       "      <td>Var</td>\n",
       "      <td>Var</td>\n",
       "      <td>14.1</td>\n",
       "      <td>10.0</td>\n",
       "      <td>3.3</td>\n",
       "      <td>SSD</td>\n",
       "      <td>...</td>\n",
       "      <td>Freedos</td>\n",
       "      <td>1920 x 1080</td>\n",
       "      <td>16</td>\n",
       "      <td>Intel i5-1235U</td>\n",
       "      <td>Gümüş</td>\n",
       "      <td>10</td>\n",
       "      <td>NaN</td>\n",
       "      <td>512</td>\n",
       "      <td>Var</td>\n",
       "      <td>Monster</td>\n",
       "    </tr>\n",
       "    <tr>\n",
       "      <th>3</th>\n",
       "      <td>10873</td>\n",
       "      <td>10.0</td>\n",
       "      <td>Lenovo IdeaPad 5 15ALC05 82LN00R8TX R5-5500U 1...</td>\n",
       "      <td>Yok</td>\n",
       "      <td>NaN</td>\n",
       "      <td>Var</td>\n",
       "      <td>15.6</td>\n",
       "      <td>6.0</td>\n",
       "      <td>2.1</td>\n",
       "      <td>SSD</td>\n",
       "      <td>...</td>\n",
       "      <td>Freedos</td>\n",
       "      <td>1920 x 1080</td>\n",
       "      <td>16</td>\n",
       "      <td>Amd Ryzen 5-5500U</td>\n",
       "      <td>Gri</td>\n",
       "      <td>6</td>\n",
       "      <td>NaN</td>\n",
       "      <td>512</td>\n",
       "      <td>Var</td>\n",
       "      <td>Lenovo</td>\n",
       "    </tr>\n",
       "    <tr>\n",
       "      <th>4</th>\n",
       "      <td>20599</td>\n",
       "      <td>10.0</td>\n",
       "      <td>Monster Abra A5 V19.4.4 i5-12500H 32 GB 1 TB S...</td>\n",
       "      <td>Yok</td>\n",
       "      <td>Var</td>\n",
       "      <td>Var</td>\n",
       "      <td>15.6</td>\n",
       "      <td>12.0</td>\n",
       "      <td>3.3</td>\n",
       "      <td>SSD</td>\n",
       "      <td>...</td>\n",
       "      <td>Freedos</td>\n",
       "      <td>1920 x 1080</td>\n",
       "      <td>32</td>\n",
       "      <td>Intel i5-12500H</td>\n",
       "      <td>Siyah</td>\n",
       "      <td>12</td>\n",
       "      <td>4</td>\n",
       "      <td>1 TB</td>\n",
       "      <td>Var</td>\n",
       "      <td>Monster</td>\n",
       "    </tr>\n",
       "  </tbody>\n",
       "</table>\n",
       "<p>5 rows × 23 columns</p>\n",
       "</div>"
      ],
      "text/plain": [
       "   PRICE  SELLER_GRADE                                               NAME  \\\n",
       "0   7199          10.0  Asus X515EA-BQ945 i3-1115G4 4 GB 256 GB M.2 SS...   \n",
       "1  16499          10.0  Asus Tuf Gaming F15 FX506HC-HN409 i5-11400H 8 ...   \n",
       "2  12767          10.0  Monster Huma H4 V5.1 i5-1235U 16 GB 512 GB SSD...   \n",
       "3  10873          10.0  Lenovo IdeaPad 5 15ALC05 82LN00R8TX R5-5500U 1...   \n",
       "4  20599          10.0  Monster Abra A5 V19.4.4 i5-12500H 32 GB 1 TB S...   \n",
       "\n",
       "  OPTICAL_DRIVE  USB BLUETOOTH  SCREEN_SIZE  NO_OF_PROCESSOR_CORES  \\\n",
       "0           Yok  Var       Var         15.6                    2.0   \n",
       "1           NaN  Var       Var         15.6                    6.0   \n",
       "2           Yok  Var       Var         14.1                   10.0   \n",
       "3           Yok  NaN       Var         15.6                    6.0   \n",
       "4           Yok  Var       Var         15.6                   12.0   \n",
       "\n",
       "   PROCESSOR_SPEED DISC_TYPE  ... OPERATING_SYSTEM SCREEN_RESOLUTION RAM  \\\n",
       "0              3.0       SSD  ...          Freedos       1920 x 1080   4   \n",
       "1              2.7       SSD  ...          Freedos       1920 x 1080   8   \n",
       "2              3.3       SSD  ...          Freedos       1920 x 1080  16   \n",
       "3              2.1       SSD  ...          Freedos       1920 x 1080  16   \n",
       "4              3.3       SSD  ...          Freedos       1920 x 1080  32   \n",
       "\n",
       "     PROCESSOR_MODEL  COLOR  PROCESSOR GPU_CAPACITY DISC_CAPACITY HDMI  \\\n",
       "0    Intel i3-1115G4  Gümüş   3.00 GHz          NaN           256  NaN   \n",
       "1    Intel i5-11400H  Siyah          6            4           512  Var   \n",
       "2     Intel i5-1235U  Gümüş         10          NaN           512  Var   \n",
       "3  Amd Ryzen 5-5500U    Gri          6          NaN           512  Var   \n",
       "4    Intel i5-12500H  Siyah         12            4          1 TB  Var   \n",
       "\n",
       "     BRAND  \n",
       "0     Asus  \n",
       "1     Asus  \n",
       "2  Monster  \n",
       "3   Lenovo  \n",
       "4  Monster  \n",
       "\n",
       "[5 rows x 23 columns]"
      ]
     },
     "execution_count": 2,
     "metadata": {},
     "output_type": "execute_result"
    }
   ],
   "source": [
    "df = pd.read_csv('n11.csv')\n",
    "df.drop('Unnamed: 0', axis = 1, inplace = True)\n",
    "df.head()"
   ]
  },
  {
   "cell_type": "code",
   "execution_count": 3,
   "id": "1288e970",
   "metadata": {
    "scrolled": false
   },
   "outputs": [
    {
     "name": "stdout",
     "output_type": "stream",
     "text": [
      "<class 'pandas.core.frame.DataFrame'>\n",
      "RangeIndex: 1000 entries, 0 to 999\n",
      "Data columns (total 23 columns):\n",
      " #   Column                 Non-Null Count  Dtype  \n",
      "---  ------                 --------------  -----  \n",
      " 0   PRICE                  1000 non-null   int64  \n",
      " 1   SELLER_GRADE           1000 non-null   float64\n",
      " 2   NAME                   1000 non-null   object \n",
      " 3   OPTICAL_DRIVE          976 non-null    object \n",
      " 4   USB                    971 non-null    object \n",
      " 5   BLUETOOTH              972 non-null    object \n",
      " 6   SCREEN_SIZE            1000 non-null   float64\n",
      " 7   NO_OF_PROCESSOR_CORES  999 non-null    float64\n",
      " 8   PROCESSOR_SPEED        992 non-null    float64\n",
      " 9   DISC_TYPE              1000 non-null   object \n",
      " 10  RAM_TYPE               970 non-null    object \n",
      " 11  GPU_MODEL              999 non-null    object \n",
      " 12  FINGERPRINT_READER     794 non-null    object \n",
      " 13  OPERATING_SYSTEM       1000 non-null   object \n",
      " 14  SCREEN_RESOLUTION      980 non-null    object \n",
      " 15  RAM                    1000 non-null   int64  \n",
      " 16  PROCESSOR_MODEL        999 non-null    object \n",
      " 17  COLOR                  935 non-null    object \n",
      " 18  PROCESSOR              1000 non-null   object \n",
      " 19  GPU_CAPACITY           416 non-null    object \n",
      " 20  DISC_CAPACITY          1000 non-null   object \n",
      " 21  HDMI                   963 non-null    object \n",
      " 22  BRAND                  1000 non-null   object \n",
      "dtypes: float64(4), int64(2), object(17)\n",
      "memory usage: 179.8+ KB\n"
     ]
    }
   ],
   "source": [
    "df.info()"
   ]
  },
  {
   "cell_type": "code",
   "execution_count": 4,
   "id": "c7a50551",
   "metadata": {
    "scrolled": true
   },
   "outputs": [
    {
     "data": {
      "text/plain": [
       "10.0    910\n",
       "9.9      50\n",
       "9.8       6\n",
       "9.7      21\n",
       "9.6       4\n",
       "9.5       2\n",
       "9.4       3\n",
       "9.2       1\n",
       "9.0       1\n",
       "6.8       2\n",
       "Name: SELLER_GRADE, dtype: int64"
      ]
     },
     "execution_count": 4,
     "metadata": {},
     "output_type": "execute_result"
    }
   ],
   "source": [
    "df['SELLER_GRADE'].value_counts().sort_index(ascending = False)"
   ]
  },
  {
   "cell_type": "code",
   "execution_count": 5,
   "id": "635d912a",
   "metadata": {},
   "outputs": [
    {
     "data": {
      "text/plain": [
       "987"
      ]
     },
     "execution_count": 5,
     "metadata": {},
     "output_type": "execute_result"
    }
   ],
   "source": [
    "# I will drop below 9.7 because n11 has also unofficial sellers which has low points.\n",
    "df = df[df['SELLER_GRADE'] >= 9.7]\n",
    "len(df)"
   ]
  },
  {
   "cell_type": "code",
   "execution_count": 6,
   "id": "67d92b79",
   "metadata": {
    "scrolled": true
   },
   "outputs": [
    {
     "data": {
      "text/plain": [
       "512            368\n",
       "1 TB           180\n",
       "256            170\n",
       "500             85\n",
       "2 TB            47\n",
       "1 TB + 512      45\n",
       "1 TB + 256      31\n",
       "250             23\n",
       "1 TB + 1 TB     15\n",
       "128              9\n",
       "240              6\n",
       "120              3\n",
       "2 TB + 2 TB      2\n",
       "512  + 32        1\n",
       "1 TB + 128       1\n",
       "2 TB + 512       1\n",
       "Name: DISC_CAPACITY, dtype: int64"
      ]
     },
     "execution_count": 6,
     "metadata": {},
     "output_type": "execute_result"
    }
   ],
   "source": [
    "df['DISC_CAPACITY'].value_counts()"
   ]
  },
  {
   "cell_type": "code",
   "execution_count": 7,
   "id": "ee4a54e9",
   "metadata": {
    "scrolled": false
   },
   "outputs": [
    {
     "data": {
      "text/plain": [
       "512     368\n",
       "1024    180\n",
       "256     170\n",
       "500      85\n",
       "2048     62\n",
       "1536     45\n",
       "1280     31\n",
       "250      23\n",
       "128       9\n",
       "240       6\n",
       "120       3\n",
       "4096      2\n",
       "544       1\n",
       "1152      1\n",
       "2560      1\n",
       "Name: DISC_CAPACITY, dtype: int64"
      ]
     },
     "execution_count": 7,
     "metadata": {},
     "output_type": "execute_result"
    }
   ],
   "source": [
    "pd.options.mode.chained_assignment = None\n",
    "\n",
    "df['DISC_CAPACITY'] = df['DISC_CAPACITY'].str.strip()\n",
    "df['DISC_CAPACITY'] = df['DISC_CAPACITY'].apply(lambda x: '628' if x == '500  + 128' else x)\n",
    "df['DISC_CAPACITY'] = df['DISC_CAPACITY'].apply(lambda x: '544' if x == '512  + 32' else x)\n",
    "df['DISC_CAPACITY'] = df['DISC_CAPACITY'].apply(lambda x: '1536' if x == '1 TB + 512' else x)\n",
    "df['DISC_CAPACITY'] = df['DISC_CAPACITY'].apply(lambda x: '1280' if x == '1 TB + 256' else x)\n",
    "df['DISC_CAPACITY'] = df['DISC_CAPACITY'].apply(lambda x: '1152' if x == '1 TB + 128' else x)\n",
    "df['DISC_CAPACITY'] = df['DISC_CAPACITY'].apply(lambda x: '2048' if x in ['2 TB', '1 TB + 1 TB'] else x)\n",
    "df['DISC_CAPACITY'] = df['DISC_CAPACITY'].apply(lambda x: '4096' if x == '2 TB + 2 TB' else x)\n",
    "df['DISC_CAPACITY'] = df['DISC_CAPACITY'].apply(lambda x: '2560' if x == '2 TB + 512' else x)\n",
    "df['DISC_CAPACITY'] = df['DISC_CAPACITY'].apply(lambda x: '1024' if x == '1 TB' else x)\n",
    "\n",
    "df['DISC_CAPACITY'].value_counts()\n",
    "\n",
    "# Features less than 20 observations would cause deviations in our analysis."
   ]
  },
  {
   "cell_type": "code",
   "execution_count": 8,
   "id": "fa2f3d96",
   "metadata": {},
   "outputs": [
    {
     "data": {
      "text/plain": [
       "['512', '1024', '256', '500', '2048', '1536', '1280', '250']"
      ]
     },
     "execution_count": 8,
     "metadata": {},
     "output_type": "execute_result"
    }
   ],
   "source": [
    "disc_cap_list = []\n",
    "for i in range(len(df['DISC_CAPACITY'].value_counts())):\n",
    "    \n",
    "    if df['DISC_CAPACITY'].value_counts()[i] >= 20:\n",
    "        \n",
    "        disc_cap_list.append(df['DISC_CAPACITY'].value_counts().index[i])\n",
    "\n",
    "disc_cap_list"
   ]
  },
  {
   "cell_type": "code",
   "execution_count": 9,
   "id": "4f77c1da",
   "metadata": {
    "scrolled": true
   },
   "outputs": [
    {
     "data": {
      "text/plain": [
       "512     368\n",
       "1024    180\n",
       "256     170\n",
       "500      85\n",
       "2048     62\n",
       "1536     45\n",
       "1280     31\n",
       "250      23\n",
       "Name: DISC_CAPACITY, dtype: int64"
      ]
     },
     "execution_count": 9,
     "metadata": {},
     "output_type": "execute_result"
    }
   ],
   "source": [
    "df['DISC_CAPACITY'] = df['DISC_CAPACITY'].apply(lambda x: x if x in disc_cap_list else np.nan)\n",
    "df['DISC_CAPACITY'].value_counts()"
   ]
  },
  {
   "cell_type": "code",
   "execution_count": 10,
   "id": "b803777f",
   "metadata": {
    "scrolled": false
   },
   "outputs": [
    {
     "name": "stdout",
     "output_type": "stream",
     "text": [
      "<class 'pandas.core.frame.DataFrame'>\n",
      "Int64Index: 987 entries, 0 to 999\n",
      "Data columns (total 23 columns):\n",
      " #   Column                 Non-Null Count  Dtype  \n",
      "---  ------                 --------------  -----  \n",
      " 0   PRICE                  987 non-null    int64  \n",
      " 1   SELLER_GRADE           987 non-null    float64\n",
      " 2   NAME                   987 non-null    object \n",
      " 3   OPTICAL_DRIVE          963 non-null    object \n",
      " 4   USB                    962 non-null    object \n",
      " 5   BLUETOOTH              963 non-null    object \n",
      " 6   SCREEN_SIZE            987 non-null    float64\n",
      " 7   NO_OF_PROCESSOR_CORES  986 non-null    float64\n",
      " 8   PROCESSOR_SPEED        979 non-null    float64\n",
      " 9   DISC_TYPE              987 non-null    object \n",
      " 10  RAM_TYPE               959 non-null    object \n",
      " 11  GPU_MODEL              986 non-null    object \n",
      " 12  FINGERPRINT_READER     788 non-null    object \n",
      " 13  OPERATING_SYSTEM       987 non-null    object \n",
      " 14  SCREEN_RESOLUTION      971 non-null    object \n",
      " 15  RAM                    987 non-null    int64  \n",
      " 16  PROCESSOR_MODEL        987 non-null    object \n",
      " 17  COLOR                  923 non-null    object \n",
      " 18  PROCESSOR              987 non-null    object \n",
      " 19  GPU_CAPACITY           413 non-null    object \n",
      " 20  DISC_CAPACITY          964 non-null    object \n",
      " 21  HDMI                   953 non-null    object \n",
      " 22  BRAND                  987 non-null    object \n",
      "dtypes: float64(4), int64(2), object(17)\n",
      "memory usage: 185.1+ KB\n"
     ]
    }
   ],
   "source": [
    "df.info()"
   ]
  },
  {
   "cell_type": "code",
   "execution_count": 11,
   "id": "c1d0d4c2",
   "metadata": {},
   "outputs": [
    {
     "data": {
      "text/plain": [
       "2     171\n",
       "4     163\n",
       "6      53\n",
       "8      24\n",
       "12      2\n",
       "Name: GPU_CAPACITY, dtype: int64"
      ]
     },
     "execution_count": 11,
     "metadata": {},
     "output_type": "execute_result"
    }
   ],
   "source": [
    "df['GPU_CAPACITY'] = df['GPU_CAPACITY'].apply(lambda x: '2' if x == 'Diğer' else x)\n",
    "df['GPU_CAPACITY'].value_counts()"
   ]
  },
  {
   "cell_type": "code",
   "execution_count": 12,
   "id": "90cea708",
   "metadata": {},
   "outputs": [
    {
     "data": {
      "text/plain": [
       "<AxesSubplot:xlabel='GPU_CAPACITY', ylabel='PRICE'>"
      ]
     },
     "execution_count": 12,
     "metadata": {},
     "output_type": "execute_result"
    },
    {
     "data": {
      "image/png": "[encoded data removed]",
      "text/plain": [
       "<Figure size 432x288 with 1 Axes>"
      ]
     },
     "metadata": {
      "needs_background": "light"
     },
     "output_type": "display_data"
    }
   ],
   "source": [
    "sns.scatterplot(data = df, x = 'GPU_CAPACITY', y = 'PRICE')\n",
    "\n",
    "# There are lots of null values in GPU CAPACITY and as it is shown below, it is not an explanatory variable for pricing."
   ]
  },
  {
   "cell_type": "code",
   "execution_count": 13,
   "id": "f004cb2c",
   "metadata": {},
   "outputs": [
    {
     "data": {
      "text/plain": [
       "Yok    962\n",
       "Var      1\n",
       "Name: OPTICAL_DRIVE, dtype: int64"
      ]
     },
     "execution_count": 13,
     "metadata": {},
     "output_type": "execute_result"
    }
   ],
   "source": [
    "df['OPTICAL_DRIVE'].value_counts()\n",
    "# Not a classifier."
   ]
  },
  {
   "cell_type": "code",
   "execution_count": 14,
   "id": "b3507446",
   "metadata": {},
   "outputs": [
    {
     "data": {
      "text/plain": [
       "Var    923\n",
       "Yok     39\n",
       "Name: USB, dtype: int64"
      ]
     },
     "execution_count": 14,
     "metadata": {},
     "output_type": "execute_result"
    }
   ],
   "source": [
    "df['USB'].value_counts()"
   ]
  },
  {
   "cell_type": "code",
   "execution_count": 15,
   "id": "e1eb20b4",
   "metadata": {},
   "outputs": [
    {
     "data": {
      "text/plain": [
       "Var    963\n",
       "Name: BLUETOOTH, dtype: int64"
      ]
     },
     "execution_count": 15,
     "metadata": {},
     "output_type": "execute_result"
    }
   ],
   "source": [
    "df['BLUETOOTH'].value_counts()\n",
    "# Not a classifier."
   ]
  },
  {
   "cell_type": "code",
   "execution_count": 16,
   "id": "b3ea2d28",
   "metadata": {},
   "outputs": [
    {
     "data": {
      "text/plain": [
       "15.6    615\n",
       "14.0    245\n",
       "16.0     42\n",
       "17.3     29\n",
       "16.1     24\n",
       "14.1     12\n",
       "13.3      8\n",
       "17.0      4\n",
       "13.6      2\n",
       "14.5      2\n",
       "13.0      2\n",
       "12.4      1\n",
       "13.4      1\n",
       "Name: SCREEN_SIZE, dtype: int64"
      ]
     },
     "execution_count": 16,
     "metadata": {},
     "output_type": "execute_result"
    }
   ],
   "source": [
    "df['SCREEN_SIZE'].value_counts()"
   ]
  },
  {
   "cell_type": "code",
   "execution_count": 17,
   "id": "76afe845",
   "metadata": {
    "scrolled": false
   },
   "outputs": [
    {
     "data": {
      "text/plain": [
       "2.8    192\n",
       "2.4    178\n",
       "3.5    104\n",
       "3.3     98\n",
       "1.8     54\n",
       "2.3     50\n",
       "3.0     48\n",
       "3.4     36\n",
       "2.9     33\n",
       "2.6     31\n",
       "3.2     28\n",
       "2.1     20\n",
       "2.5     14\n",
       "1.1     14\n",
       "2.7     13\n",
       "1.0     11\n",
       "1.6     10\n",
       "2.0     10\n",
       "3.7      8\n",
       "1.3      5\n",
       "1.2      5\n",
       "3.8      5\n",
       "3.1      3\n",
       "3.6      3\n",
       "2.2      2\n",
       "4.7      2\n",
       "4.1      1\n",
       "1.7      1\n",
       "Name: PROCESSOR_SPEED, dtype: int64"
      ]
     },
     "execution_count": 17,
     "metadata": {},
     "output_type": "execute_result"
    }
   ],
   "source": [
    "df['PROCESSOR_SPEED'].value_counts()"
   ]
  },
  {
   "cell_type": "code",
   "execution_count": 18,
   "id": "43ce1065",
   "metadata": {},
   "outputs": [
    {
     "data": {
      "text/plain": [
       "[2.8, 2.4, 3.5, 3.3, 1.8, 2.3, 3.0, 3.4, 2.9, 2.6, 3.2, 2.1]"
      ]
     },
     "execution_count": 18,
     "metadata": {},
     "output_type": "execute_result"
    }
   ],
   "source": [
    "processor_speed_list = []\n",
    "for i in range(len(df['PROCESSOR_SPEED'].value_counts())):\n",
    "    \n",
    "    if df['PROCESSOR_SPEED'].value_counts().values[i] >= 20:\n",
    "        \n",
    "        processor_speed_list.append(df['PROCESSOR_SPEED'].value_counts().index[i])\n",
    "\n",
    "processor_speed_list"
   ]
  },
  {
   "cell_type": "code",
   "execution_count": 19,
   "id": "1dfd1de4",
   "metadata": {},
   "outputs": [
    {
     "data": {
      "text/plain": [
       "2.8    192\n",
       "2.4    178\n",
       "3.5    104\n",
       "3.3     98\n",
       "1.8     54\n",
       "2.3     50\n",
       "3.0     48\n",
       "3.4     36\n",
       "2.9     33\n",
       "2.6     31\n",
       "3.2     28\n",
       "2.1     20\n",
       "Name: PROCESSOR_SPEED, dtype: int64"
      ]
     },
     "execution_count": 19,
     "metadata": {},
     "output_type": "execute_result"
    }
   ],
   "source": [
    "df['PROCESSOR_SPEED'] = df['PROCESSOR_SPEED'].apply(lambda x: x if x in processor_speed_list else np.nan)\n",
    "df['PROCESSOR_SPEED'].value_counts()"
   ]
  },
  {
   "cell_type": "code",
   "execution_count": 20,
   "id": "6b5e6312",
   "metadata": {
    "scrolled": true
   },
   "outputs": [
    {
     "data": {
      "text/plain": [
       "4.0     464\n",
       "8.0     125\n",
       "10.0    115\n",
       "6.0      94\n",
       "12.0     71\n",
       "2.0      65\n",
       "14.0     49\n",
       "16.0      3\n",
       "Name: NO_OF_PROCESSOR_CORES, dtype: int64"
      ]
     },
     "execution_count": 20,
     "metadata": {},
     "output_type": "execute_result"
    }
   ],
   "source": [
    "df['NO_OF_PROCESSOR_CORES'].value_counts()"
   ]
  },
  {
   "cell_type": "code",
   "execution_count": 21,
   "id": "c587703a",
   "metadata": {},
   "outputs": [
    {
     "data": {
      "text/plain": [
       "[4.0, 8.0, 10.0, 6.0, 12.0, 2.0, 14.0]"
      ]
     },
     "execution_count": 21,
     "metadata": {},
     "output_type": "execute_result"
    }
   ],
   "source": [
    "no_of_cores_list = []\n",
    "for i in range(len(df['NO_OF_PROCESSOR_CORES'].value_counts())):\n",
    "    \n",
    "    \n",
    "    if df['NO_OF_PROCESSOR_CORES'].value_counts().values[i] >= 20:\n",
    "        \n",
    "        no_of_cores_list.append(df['NO_OF_PROCESSOR_CORES'].value_counts().index[i])\n",
    "\n",
    "no_of_cores_list"
   ]
  },
  {
   "cell_type": "code",
   "execution_count": 22,
   "id": "d3cf568b",
   "metadata": {},
   "outputs": [
    {
     "data": {
      "text/plain": [
       "4.0     464\n",
       "8.0     125\n",
       "10.0    115\n",
       "6.0      94\n",
       "12.0     71\n",
       "2.0      65\n",
       "14.0     49\n",
       "Name: NO_OF_PROCESSOR_CORES, dtype: int64"
      ]
     },
     "execution_count": 22,
     "metadata": {},
     "output_type": "execute_result"
    }
   ],
   "source": [
    "df['NO_OF_PROCESSOR_CORES'] = df['NO_OF_PROCESSOR_CORES'].apply(lambda x: x if x in no_of_cores_list else np.nan)\n",
    "df['NO_OF_PROCESSOR_CORES'].value_counts()"
   ]
  },
  {
   "cell_type": "code",
   "execution_count": 23,
   "id": "af1c6528",
   "metadata": {},
   "outputs": [
    {
     "data": {
      "text/plain": [
       "<AxesSubplot:xlabel='NO_OF_PROCESSOR_CORES', ylabel='PRICE'>"
      ]
     },
     "execution_count": 23,
     "metadata": {},
     "output_type": "execute_result"
    },
    {
     "data": {
      "image/png": "[encoded data removed]",
      "text/plain": [
       "<Figure size 432x288 with 1 Axes>"
      ]
     },
     "metadata": {
      "needs_background": "light"
     },
     "output_type": "display_data"
    }
   ],
   "source": [
    "sns.scatterplot(data = df, x = 'NO_OF_PROCESSOR_CORES', y = 'PRICE')"
   ]
  },
  {
   "cell_type": "code",
   "execution_count": 24,
   "id": "7350fb2d",
   "metadata": {},
   "outputs": [
    {
     "data": {
      "text/plain": [
       "SSD          942\n",
       "HDD - SSD     41\n",
       "HDD            4\n",
       "Name: DISC_TYPE, dtype: int64"
      ]
     },
     "execution_count": 24,
     "metadata": {},
     "output_type": "execute_result"
    }
   ],
   "source": [
    "df['DISC_TYPE'].value_counts()"
   ]
  },
  {
   "cell_type": "code",
   "execution_count": 25,
   "id": "23242806",
   "metadata": {},
   "outputs": [
    {
     "data": {
      "text/plain": [
       "<AxesSubplot:xlabel='DISC_TYPE', ylabel='PRICE'>"
      ]
     },
     "execution_count": 25,
     "metadata": {},
     "output_type": "execute_result"
    },
    {
     "data": {
      "image/png": "[encoded data removed]",
      "text/plain": [
       "<Figure size 432x288 with 1 Axes>"
      ]
     },
     "metadata": {
      "needs_background": "light"
     },
     "output_type": "display_data"
    }
   ],
   "source": [
    "sns.scatterplot(data = df, x = 'DISC_TYPE', y = 'PRICE')\n",
    "# Not explanatory."
   ]
  },
  {
   "cell_type": "code",
   "execution_count": 26,
   "id": "6a6417b2",
   "metadata": {},
   "outputs": [
    {
     "data": {
      "text/plain": [
       "DDR4       886\n",
       "DDR5        64\n",
       "LPDDR4       4\n",
       "LPDDR4X      2\n",
       "LPDDR5       2\n",
       "DDR3         1\n",
       "Name: RAM_TYPE, dtype: int64"
      ]
     },
     "execution_count": 26,
     "metadata": {},
     "output_type": "execute_result"
    }
   ],
   "source": [
    "df['RAM_TYPE'].value_counts()"
   ]
  },
  {
   "cell_type": "code",
   "execution_count": 27,
   "id": "1dfc1bd5",
   "metadata": {},
   "outputs": [
    {
     "data": {
      "text/plain": [
       "<AxesSubplot:xlabel='RAM_TYPE', ylabel='PRICE'>"
      ]
     },
     "execution_count": 27,
     "metadata": {},
     "output_type": "execute_result"
    },
    {
     "data": {
      "image/png": "[encoded data removed]",
      "text/plain": [
       "<Figure size 432x288 with 1 Axes>"
      ]
     },
     "metadata": {
      "needs_background": "light"
     },
     "output_type": "display_data"
    }
   ],
   "source": [
    "sns.scatterplot(data = df, x = 'RAM_TYPE', y = 'PRICE')\n",
    "# Not explanatory."
   ]
  },
  {
   "cell_type": "code",
   "execution_count": 28,
   "id": "64e2ac68",
   "metadata": {},
   "outputs": [
    {
     "data": {
      "text/plain": [
       "Paylaşımlı     564\n",
       "Paylaşımsız    422\n",
       "Name: GPU_MODEL, dtype: int64"
      ]
     },
     "execution_count": 28,
     "metadata": {},
     "output_type": "execute_result"
    }
   ],
   "source": [
    "df['GPU_MODEL'].value_counts()"
   ]
  },
  {
   "cell_type": "code",
   "execution_count": 29,
   "id": "098509c8",
   "metadata": {},
   "outputs": [
    {
     "data": {
      "text/plain": [
       "<AxesSubplot:xlabel='PROCESSOR_SPEED', ylabel='PRICE'>"
      ]
     },
     "execution_count": 29,
     "metadata": {},
     "output_type": "execute_result"
    },
    {
     "data": {
      "image/png": "[encoded data removed]",
      "text/plain": [
       "<Figure size 432x288 with 1 Axes>"
      ]
     },
     "metadata": {
      "needs_background": "light"
     },
     "output_type": "display_data"
    }
   ],
   "source": [
    "sns.scatterplot(data = df, x = 'PROCESSOR_SPEED', y = 'PRICE')"
   ]
  },
  {
   "cell_type": "code",
   "execution_count": 30,
   "id": "9e8c6afb",
   "metadata": {},
   "outputs": [
    {
     "data": {
      "text/plain": [
       "Freedos            434\n",
       "Windows 10 Pro     169\n",
       "Windows 11 Pro     133\n",
       "Windows 11 Home    121\n",
       "Windows 10 Home     80\n",
       "Ubuntu              25\n",
       "Macos                8\n",
       "Linux                8\n",
       "Yok (Free Dos)       4\n",
       "Windows 10           4\n",
       "Free Dos             1\n",
       "Name: OPERATING_SYSTEM, dtype: int64"
      ]
     },
     "execution_count": 30,
     "metadata": {},
     "output_type": "execute_result"
    }
   ],
   "source": [
    "df['OPERATING_SYSTEM'].value_counts()\n",
    "# Freedos means no operating system."
   ]
  },
  {
   "cell_type": "code",
   "execution_count": 31,
   "id": "c9e91cb9",
   "metadata": {},
   "outputs": [
    {
     "data": {
      "text/plain": [
       " 1920 x 1080    821\n",
       " 1920 x 1200     75\n",
       " 2560 x 1440     36\n",
       " 1366 x 768      19\n",
       " 2560 x 1600      7\n",
       " 3840 x 2160      4\n",
       " 3840 x 2400      3\n",
       " 3024 x 1964      2\n",
       " 2880 x 1800      1\n",
       " 1920 x 1280      1\n",
       " 3456 x 2160      1\n",
       " 2560 x 1664      1\n",
       "Name: SCREEN_RESOLUTION, dtype: int64"
      ]
     },
     "execution_count": 31,
     "metadata": {},
     "output_type": "execute_result"
    }
   ],
   "source": [
    "df['SCREEN_RESOLUTION'].value_counts()\n",
    "# Less than 10 samples for a particular category would only cause confusion for the analysis."
   ]
  },
  {
   "cell_type": "code",
   "execution_count": 32,
   "id": "9a21a387",
   "metadata": {},
   "outputs": [
    {
     "data": {
      "text/plain": [
       "[' 1920 x 1080', ' 1920 x 1200', ' 2560 x 1440', ' 1366 x 768']"
      ]
     },
     "execution_count": 32,
     "metadata": {},
     "output_type": "execute_result"
    }
   ],
   "source": [
    "screen_res_list = []\n",
    "for i in range(len(df['SCREEN_RESOLUTION'].value_counts())):\n",
    "    \n",
    "    \n",
    "    if df['SCREEN_RESOLUTION'].value_counts().values[i] >= 19:\n",
    "        \n",
    "        screen_res_list.append(df['SCREEN_RESOLUTION'].value_counts().index[i])\n",
    "\n",
    "screen_res_list"
   ]
  },
  {
   "cell_type": "code",
   "execution_count": 33,
   "id": "9ddc0c19",
   "metadata": {},
   "outputs": [
    {
     "data": {
      "text/plain": [
       " 1920 x 1080    821\n",
       " 1920 x 1200     75\n",
       " 2560 x 1440     36\n",
       " 1366 x 768      19\n",
       "Name: SCREEN_RESOLUTION, dtype: int64"
      ]
     },
     "execution_count": 33,
     "metadata": {},
     "output_type": "execute_result"
    }
   ],
   "source": [
    "df['SCREEN_RESOLUTION'] = df['SCREEN_RESOLUTION'].apply(lambda x: x if x in screen_res_list else np.nan)\n",
    "df['SCREEN_RESOLUTION'].value_counts()"
   ]
  },
  {
   "cell_type": "code",
   "execution_count": 34,
   "id": "68cab73b",
   "metadata": {
    "scrolled": true
   },
   "outputs": [
    {
     "data": {
      "text/plain": [
       "16     342\n",
       "8      235\n",
       "32     164\n",
       "24      44\n",
       "4       41\n",
       "20      35\n",
       "12      34\n",
       "40      33\n",
       "64      27\n",
       "48      19\n",
       "36      12\n",
       "128      1\n",
       "Name: RAM, dtype: int64"
      ]
     },
     "execution_count": 34,
     "metadata": {},
     "output_type": "execute_result"
    }
   ],
   "source": [
    "df['RAM'].value_counts()"
   ]
  },
  {
   "cell_type": "code",
   "execution_count": 35,
   "id": "58630a9d",
   "metadata": {},
   "outputs": [
    {
     "data": {
      "text/plain": [
       "[16, 8, 32, 24, 4, 20, 12, 40, 64, 48]"
      ]
     },
     "execution_count": 35,
     "metadata": {},
     "output_type": "execute_result"
    }
   ],
   "source": [
    "ram_list = []\n",
    "for i in range(len(df['RAM'].value_counts())):\n",
    "    \n",
    "    \n",
    "    if df['RAM'].value_counts().values[i] >= 19:\n",
    "        \n",
    "        ram_list.append(df['RAM'].value_counts().index[i])\n",
    "\n",
    "ram_list"
   ]
  },
  {
   "cell_type": "code",
   "execution_count": 36,
   "id": "9eecf2d0",
   "metadata": {},
   "outputs": [
    {
     "data": {
      "text/plain": [
       "16.0    342\n",
       "8.0     235\n",
       "32.0    164\n",
       "24.0     44\n",
       "4.0      41\n",
       "20.0     35\n",
       "12.0     34\n",
       "40.0     33\n",
       "64.0     27\n",
       "48.0     19\n",
       "Name: RAM, dtype: int64"
      ]
     },
     "execution_count": 36,
     "metadata": {},
     "output_type": "execute_result"
    }
   ],
   "source": [
    "df['RAM'] = df['RAM'].apply(lambda x: x if x in ram_list else np.nan)\n",
    "df['RAM'].value_counts()"
   ]
  },
  {
   "cell_type": "code",
   "execution_count": 37,
   "id": "919b0a46",
   "metadata": {},
   "outputs": [
    {
     "data": {
      "text/plain": [
       "<AxesSubplot:xlabel='RAM', ylabel='PRICE'>"
      ]
     },
     "execution_count": 37,
     "metadata": {},
     "output_type": "execute_result"
    },
    {
     "data": {
      "image/png": "[encoded data removed]",
      "text/plain": [
       "<Figure size 432x288 with 1 Axes>"
      ]
     },
     "metadata": {
      "needs_background": "light"
     },
     "output_type": "display_data"
    }
   ],
   "source": [
    "sns.scatterplot(data = df, x = 'RAM', y = 'PRICE')"
   ]
  },
  {
   "cell_type": "code",
   "execution_count": 38,
   "id": "1cffa6bc",
   "metadata": {},
   "outputs": [
    {
     "data": {
      "image/png": "[encoded data removed]",
      "text/plain": [
       "<Figure size 432x288 with 1 Axes>"
      ]
     },
     "metadata": {
      "needs_background": "light"
     },
     "output_type": "display_data"
    }
   ],
   "source": [
    "sns.scatterplot(data = df, x = 'PROCESSOR_MODEL', y = 'PRICE')\n",
    "plt.show()\n",
    "# Not explanatory."
   ]
  },
  {
   "cell_type": "code",
   "execution_count": 39,
   "id": "6a78045e",
   "metadata": {},
   "outputs": [
    {
     "data": {
      "text/plain": [
       "Var    932\n",
       "Yok     21\n",
       "Name: HDMI, dtype: int64"
      ]
     },
     "execution_count": 39,
     "metadata": {},
     "output_type": "execute_result"
    }
   ],
   "source": [
    "df['HDMI'].value_counts()\n",
    "# Not explanatory."
   ]
  },
  {
   "cell_type": "code",
   "execution_count": 40,
   "id": "2c1bd86b",
   "metadata": {},
   "outputs": [
    {
     "data": {
      "text/plain": [
       "Lenovo        532\n",
       "HP            137\n",
       "Dell          130\n",
       "Asus           64\n",
       "Monster        38\n",
       "Casper         28\n",
       "Acer           23\n",
       "Apple           8\n",
       "Huawei          6\n",
       "Msi             4\n",
       "Hometech        4\n",
       "Game Garaj      4\n",
       "Gigabyte        3\n",
       "Everest         3\n",
       "I-Life          2\n",
       "Toshiba         1\n",
       "Name: BRAND, dtype: int64"
      ]
     },
     "execution_count": 40,
     "metadata": {},
     "output_type": "execute_result"
    }
   ],
   "source": [
    "df['BRAND'].value_counts()"
   ]
  },
  {
   "cell_type": "code",
   "execution_count": 41,
   "id": "e92ec0fd",
   "metadata": {},
   "outputs": [
    {
     "data": {
      "text/plain": [
       "['Lenovo', 'HP', 'Dell', 'Asus', 'Monster', 'Casper', 'Acer']"
      ]
     },
     "execution_count": 41,
     "metadata": {},
     "output_type": "execute_result"
    }
   ],
   "source": [
    "brand_list = []\n",
    "for i in range(len(df['BRAND'].value_counts())):\n",
    "    \n",
    "    \n",
    "    if df['BRAND'].value_counts().values[i] >= 19:\n",
    "        \n",
    "        brand_list.append(df['BRAND'].value_counts().index[i])\n",
    "\n",
    "brand_list"
   ]
  },
  {
   "cell_type": "code",
   "execution_count": 42,
   "id": "e64c37ca",
   "metadata": {},
   "outputs": [
    {
     "data": {
      "text/plain": [
       "Lenovo     532\n",
       "HP         137\n",
       "Dell       130\n",
       "Asus        64\n",
       "Monster     38\n",
       "Casper      28\n",
       "Acer        23\n",
       "Name: BRAND, dtype: int64"
      ]
     },
     "execution_count": 42,
     "metadata": {},
     "output_type": "execute_result"
    }
   ],
   "source": [
    "df['BRAND'] = df['BRAND'].apply(lambda x: x if x in brand_list else np.nan)\n",
    "df['BRAND'].value_counts()"
   ]
  },
  {
   "cell_type": "code",
   "execution_count": 43,
   "id": "95b80356",
   "metadata": {},
   "outputs": [
    {
     "data": {
      "text/html": [
       "<div>\n",
       "<style scoped>\n",
       "    .dataframe tbody tr th:only-of-type {\n",
       "        vertical-align: middle;\n",
       "    }\n",
       "\n",
       "    .dataframe tbody tr th {\n",
       "        vertical-align: top;\n",
       "    }\n",
       "\n",
       "    .dataframe thead th {\n",
       "        text-align: right;\n",
       "    }\n",
       "</style>\n",
       "<table border=\"1\" class=\"dataframe\">\n",
       "  <thead>\n",
       "    <tr style=\"text-align: right;\">\n",
       "      <th></th>\n",
       "      <th>PRICE</th>\n",
       "      <th>NO_OF_PROCESSOR_CORES</th>\n",
       "      <th>PROCESSOR_SPEED</th>\n",
       "      <th>GPU_MODEL</th>\n",
       "      <th>OPERATING_SYSTEM</th>\n",
       "      <th>DISC_CAPACITY</th>\n",
       "      <th>SCREEN_RESOLUTION</th>\n",
       "      <th>RAM</th>\n",
       "      <th>BRAND</th>\n",
       "    </tr>\n",
       "  </thead>\n",
       "  <tbody>\n",
       "    <tr>\n",
       "      <th>0</th>\n",
       "      <td>7199</td>\n",
       "      <td>2.0</td>\n",
       "      <td>3.0</td>\n",
       "      <td>Paylaşımlı</td>\n",
       "      <td>Freedos</td>\n",
       "      <td>256</td>\n",
       "      <td>1920 x 1080</td>\n",
       "      <td>4.0</td>\n",
       "      <td>Asus</td>\n",
       "    </tr>\n",
       "    <tr>\n",
       "      <th>1</th>\n",
       "      <td>16499</td>\n",
       "      <td>6.0</td>\n",
       "      <td>NaN</td>\n",
       "      <td>Paylaşımsız</td>\n",
       "      <td>Freedos</td>\n",
       "      <td>512</td>\n",
       "      <td>1920 x 1080</td>\n",
       "      <td>8.0</td>\n",
       "      <td>Asus</td>\n",
       "    </tr>\n",
       "    <tr>\n",
       "      <th>2</th>\n",
       "      <td>12767</td>\n",
       "      <td>10.0</td>\n",
       "      <td>3.3</td>\n",
       "      <td>Paylaşımlı</td>\n",
       "      <td>Freedos</td>\n",
       "      <td>512</td>\n",
       "      <td>1920 x 1080</td>\n",
       "      <td>16.0</td>\n",
       "      <td>Monster</td>\n",
       "    </tr>\n",
       "    <tr>\n",
       "      <th>3</th>\n",
       "      <td>10873</td>\n",
       "      <td>6.0</td>\n",
       "      <td>2.1</td>\n",
       "      <td>Paylaşımlı</td>\n",
       "      <td>Freedos</td>\n",
       "      <td>512</td>\n",
       "      <td>1920 x 1080</td>\n",
       "      <td>16.0</td>\n",
       "      <td>Lenovo</td>\n",
       "    </tr>\n",
       "    <tr>\n",
       "      <th>4</th>\n",
       "      <td>20599</td>\n",
       "      <td>12.0</td>\n",
       "      <td>3.3</td>\n",
       "      <td>Paylaşımsız</td>\n",
       "      <td>Freedos</td>\n",
       "      <td>1024</td>\n",
       "      <td>1920 x 1080</td>\n",
       "      <td>32.0</td>\n",
       "      <td>Monster</td>\n",
       "    </tr>\n",
       "  </tbody>\n",
       "</table>\n",
       "</div>"
      ],
      "text/plain": [
       "   PRICE  NO_OF_PROCESSOR_CORES  PROCESSOR_SPEED    GPU_MODEL  \\\n",
       "0   7199                    2.0              3.0   Paylaşımlı   \n",
       "1  16499                    6.0              NaN  Paylaşımsız   \n",
       "2  12767                   10.0              3.3   Paylaşımlı   \n",
       "3  10873                    6.0              2.1   Paylaşımlı   \n",
       "4  20599                   12.0              3.3  Paylaşımsız   \n",
       "\n",
       "  OPERATING_SYSTEM DISC_CAPACITY SCREEN_RESOLUTION   RAM    BRAND  \n",
       "0          Freedos           256       1920 x 1080   4.0     Asus  \n",
       "1          Freedos           512       1920 x 1080   8.0     Asus  \n",
       "2          Freedos           512       1920 x 1080  16.0  Monster  \n",
       "3          Freedos           512       1920 x 1080  16.0   Lenovo  \n",
       "4          Freedos          1024       1920 x 1080  32.0  Monster  "
      ]
     },
     "execution_count": 43,
     "metadata": {},
     "output_type": "execute_result"
    }
   ],
   "source": [
    "regression = df[['PRICE','NO_OF_PROCESSOR_CORES','PROCESSOR_SPEED','GPU_MODEL','OPERATING_SYSTEM',\n",
    "                     'DISC_CAPACITY','SCREEN_RESOLUTION','RAM','BRAND']]\n",
    "regression.head()"
   ]
  },
  {
   "cell_type": "code",
   "execution_count": 44,
   "id": "a3eace1c",
   "metadata": {
    "scrolled": true
   },
   "outputs": [
    {
     "name": "stdout",
     "output_type": "stream",
     "text": [
      "<class 'pandas.core.frame.DataFrame'>\n",
      "Int64Index: 987 entries, 0 to 999\n",
      "Data columns (total 9 columns):\n",
      " #   Column                 Non-Null Count  Dtype  \n",
      "---  ------                 --------------  -----  \n",
      " 0   PRICE                  987 non-null    int64  \n",
      " 1   NO_OF_PROCESSOR_CORES  983 non-null    float64\n",
      " 2   PROCESSOR_SPEED        872 non-null    float64\n",
      " 3   GPU_MODEL              986 non-null    object \n",
      " 4   OPERATING_SYSTEM       987 non-null    object \n",
      " 5   DISC_CAPACITY          964 non-null    object \n",
      " 6   SCREEN_RESOLUTION      951 non-null    object \n",
      " 7   RAM                    974 non-null    float64\n",
      " 8   BRAND                  952 non-null    object \n",
      "dtypes: float64(3), int64(1), object(5)\n",
      "memory usage: 77.1+ KB\n"
     ]
    }
   ],
   "source": [
    "regression.info()"
   ]
  },
  {
   "cell_type": "code",
   "execution_count": 45,
   "id": "afee6623",
   "metadata": {
    "scrolled": true
   },
   "outputs": [
    {
     "name": "stdout",
     "output_type": "stream",
     "text": [
      "<class 'pandas.core.frame.DataFrame'>\n",
      "Int64Index: 808 entries, 0 to 999\n",
      "Data columns (total 9 columns):\n",
      " #   Column                 Non-Null Count  Dtype  \n",
      "---  ------                 --------------  -----  \n",
      " 0   PRICE                  808 non-null    int64  \n",
      " 1   NO_OF_PROCESSOR_CORES  808 non-null    float64\n",
      " 2   PROCESSOR_SPEED        808 non-null    float64\n",
      " 3   GPU_MODEL              808 non-null    object \n",
      " 4   OPERATING_SYSTEM       808 non-null    object \n",
      " 5   DISC_CAPACITY          808 non-null    object \n",
      " 6   SCREEN_RESOLUTION      808 non-null    object \n",
      " 7   RAM                    808 non-null    float64\n",
      " 8   BRAND                  808 non-null    object \n",
      "dtypes: float64(3), int64(1), object(5)\n",
      "memory usage: 63.1+ KB\n"
     ]
    }
   ],
   "source": [
    "regression.dropna(axis = 0, inplace = True)\n",
    "regression.info()"
   ]
  },
  {
   "cell_type": "code",
   "execution_count": 46,
   "id": "a2be5bb7",
   "metadata": {},
   "outputs": [],
   "source": [
    "# There are outliers in terms of laptop prices. They should be eliminated."
   ]
  },
  {
   "cell_type": "code",
   "execution_count": 47,
   "id": "0d787859",
   "metadata": {},
   "outputs": [
    {
     "data": {
      "image/png": "[encoded data removed]",
      "text/plain": [
       "<Figure size 432x576 with 1 Axes>"
      ]
     },
     "metadata": {
      "needs_background": "light"
     },
     "output_type": "display_data"
    }
   ],
   "source": [
    "fig, axes = plt.subplots(figsize = (6,8)) \n",
    "\n",
    "p = sns.boxplot(data = df['PRICE'], flierprops={'marker': 's'}, boxprops={'facecolor': 'magenta'})\n",
    "plt.tick_params(axis = 'both', labelsize = 14)\n",
    "p.set_title('Boxplot for Laptop Prices', fontsize = 16)\n",
    "\n",
    "plt.show()\n",
    "# np.log(price)"
   ]
  },
  {
   "cell_type": "code",
   "execution_count": 48,
   "id": "d7e1c1e6",
   "metadata": {},
   "outputs": [],
   "source": [
    "def detect_outliers(data, iqr_multiplier = 1.5):\n",
    "    \n",
    "    \"\"\"\n",
    "    Boxplots shows the outliers, this function will help us detect those points.\n",
    "    \"\"\"\n",
    "    \n",
    "    lower_quartile = np.quantile(data, 0.25)\n",
    "    upper_quartile = np.quantile(data, 0.75)\n",
    "    \n",
    "    iqr = upper_quartile - lower_quartile\n",
    "    \n",
    "    lower_whisker = lower_quartile - iqr * iqr_multiplier\n",
    "    upper_whisker = upper_quartile + iqr * iqr_multiplier\n",
    "    \n",
    "    print(\"Lower Whisker : \", data[data >= lower_whisker].min())\n",
    "    print(\"Upper Whisker : \", data[data <= upper_whisker].max())    "
   ]
  },
  {
   "cell_type": "code",
   "execution_count": 49,
   "id": "edfaf43d",
   "metadata": {},
   "outputs": [
    {
     "name": "stdout",
     "output_type": "stream",
     "text": [
      "Lower Whisker :  5819\n",
      "Upper Whisker :  43654\n"
     ]
    }
   ],
   "source": [
    "detect_outliers(regression['PRICE'])"
   ]
  },
  {
   "cell_type": "code",
   "execution_count": 50,
   "id": "643be4fe",
   "metadata": {},
   "outputs": [
    {
     "data": {
      "text/plain": [
       "749"
      ]
     },
     "execution_count": 50,
     "metadata": {},
     "output_type": "execute_result"
    }
   ],
   "source": [
    "regression = regression[regression['PRICE'] < 43654]\n",
    "regression.reset_index(drop = True, inplace = True)\n",
    "len(regression)\n",
    "# 59 rows are eliminated"
   ]
  },
  {
   "cell_type": "code",
   "execution_count": 51,
   "id": "ee2f3b14",
   "metadata": {},
   "outputs": [],
   "source": [
    "# Encoding part"
   ]
  },
  {
   "cell_type": "code",
   "execution_count": 52,
   "id": "297104f1",
   "metadata": {},
   "outputs": [
    {
     "data": {
      "text/plain": [
       "1    395\n",
       "0    354\n",
       "Name: OPERATING_SYSTEM, dtype: int64"
      ]
     },
     "execution_count": 52,
     "metadata": {},
     "output_type": "execute_result"
    }
   ],
   "source": [
    "regression['OPERATING_SYSTEM'] = regression['OPERATING_SYSTEM'].\\\n",
    "                                    apply(lambda x: 0 if x in ['Freedos', 'Yok (Free Dos)', 'Free Dos'] else 1)\n",
    "regression['OPERATING_SYSTEM'].value_counts()"
   ]
  },
  {
   "cell_type": "code",
   "execution_count": 53,
   "id": "ab0a5494",
   "metadata": {},
   "outputs": [
    {
     "data": {
      "text/plain": [
       "0    458\n",
       "1    291\n",
       "Name: GPU_MODEL, dtype: int64"
      ]
     },
     "execution_count": 53,
     "metadata": {},
     "output_type": "execute_result"
    }
   ],
   "source": [
    "regression['GPU_MODEL'] = regression['GPU_MODEL'].apply(lambda x: 1 if x == 'Paylaşımsız' else 0)\n",
    "regression['GPU_MODEL'].value_counts()"
   ]
  },
  {
   "cell_type": "code",
   "execution_count": 54,
   "id": "e41782fa",
   "metadata": {},
   "outputs": [
    {
     "data": {
      "text/plain": [
       "PRICE                    0\n",
       "NO_OF_PROCESSOR_CORES    0\n",
       "PROCESSOR_SPEED          0\n",
       "GPU_MODEL                0\n",
       "OPERATING_SYSTEM         0\n",
       "DISC_CAPACITY            0\n",
       "SCREEN_RESOLUTION        0\n",
       "RAM                      0\n",
       "BRAND                    0\n",
       "dtype: int64"
      ]
     },
     "execution_count": 54,
     "metadata": {},
     "output_type": "execute_result"
    }
   ],
   "source": [
    "regression.isna().sum()"
   ]
  },
  {
   "cell_type": "code",
   "execution_count": 55,
   "id": "b0c4b919",
   "metadata": {},
   "outputs": [
    {
     "data": {
      "image/png": "[encoded data removed]",
      "text/plain": [
       "<Figure size 432x288 with 1 Axes>"
      ]
     },
     "metadata": {
      "needs_background": "light"
     },
     "output_type": "display_data"
    }
   ],
   "source": [
    "p = sns.scatterplot(data = regression, x = 'SCREEN_RESOLUTION', y = 'PRICE')\n",
    "p.tick_params(axis = 'x', rotation = 90)\n",
    "\n",
    "# A good identifier."
   ]
  },
  {
   "cell_type": "code",
   "execution_count": 56,
   "id": "7c3f48fb",
   "metadata": {
    "scrolled": false
   },
   "outputs": [
    {
     "data": {
      "text/html": [
       "<div>\n",
       "<style scoped>\n",
       "    .dataframe tbody tr th:only-of-type {\n",
       "        vertical-align: middle;\n",
       "    }\n",
       "\n",
       "    .dataframe tbody tr th {\n",
       "        vertical-align: top;\n",
       "    }\n",
       "\n",
       "    .dataframe thead th {\n",
       "        text-align: right;\n",
       "    }\n",
       "</style>\n",
       "<table border=\"1\" class=\"dataframe\">\n",
       "  <thead>\n",
       "    <tr style=\"text-align: right;\">\n",
       "      <th></th>\n",
       "      <th>PRICE</th>\n",
       "      <th>NO_OF_PROCESSOR_CORES</th>\n",
       "      <th>PROCESSOR_SPEED</th>\n",
       "      <th>GPU_MODEL</th>\n",
       "      <th>OPERATING_SYSTEM</th>\n",
       "      <th>DISC_CAPACITY</th>\n",
       "      <th>RAM</th>\n",
       "      <th>1920 x 1080</th>\n",
       "      <th>1920 x 1200</th>\n",
       "      <th>2560 x 1440</th>\n",
       "      <th>Asus</th>\n",
       "      <th>Casper</th>\n",
       "      <th>Dell</th>\n",
       "      <th>HP</th>\n",
       "      <th>Lenovo</th>\n",
       "      <th>Monster</th>\n",
       "    </tr>\n",
       "  </thead>\n",
       "  <tbody>\n",
       "    <tr>\n",
       "      <th>0</th>\n",
       "      <td>7199</td>\n",
       "      <td>2.0</td>\n",
       "      <td>3.0</td>\n",
       "      <td>0</td>\n",
       "      <td>0</td>\n",
       "      <td>256</td>\n",
       "      <td>4.0</td>\n",
       "      <td>1</td>\n",
       "      <td>0</td>\n",
       "      <td>0</td>\n",
       "      <td>1</td>\n",
       "      <td>0</td>\n",
       "      <td>0</td>\n",
       "      <td>0</td>\n",
       "      <td>0</td>\n",
       "      <td>0</td>\n",
       "    </tr>\n",
       "    <tr>\n",
       "      <th>1</th>\n",
       "      <td>12767</td>\n",
       "      <td>10.0</td>\n",
       "      <td>3.3</td>\n",
       "      <td>0</td>\n",
       "      <td>0</td>\n",
       "      <td>512</td>\n",
       "      <td>16.0</td>\n",
       "      <td>1</td>\n",
       "      <td>0</td>\n",
       "      <td>0</td>\n",
       "      <td>0</td>\n",
       "      <td>0</td>\n",
       "      <td>0</td>\n",
       "      <td>0</td>\n",
       "      <td>0</td>\n",
       "      <td>1</td>\n",
       "    </tr>\n",
       "    <tr>\n",
       "      <th>2</th>\n",
       "      <td>10873</td>\n",
       "      <td>6.0</td>\n",
       "      <td>2.1</td>\n",
       "      <td>0</td>\n",
       "      <td>0</td>\n",
       "      <td>512</td>\n",
       "      <td>16.0</td>\n",
       "      <td>1</td>\n",
       "      <td>0</td>\n",
       "      <td>0</td>\n",
       "      <td>0</td>\n",
       "      <td>0</td>\n",
       "      <td>0</td>\n",
       "      <td>0</td>\n",
       "      <td>1</td>\n",
       "      <td>0</td>\n",
       "    </tr>\n",
       "    <tr>\n",
       "      <th>3</th>\n",
       "      <td>20599</td>\n",
       "      <td>12.0</td>\n",
       "      <td>3.3</td>\n",
       "      <td>1</td>\n",
       "      <td>0</td>\n",
       "      <td>1024</td>\n",
       "      <td>32.0</td>\n",
       "      <td>1</td>\n",
       "      <td>0</td>\n",
       "      <td>0</td>\n",
       "      <td>0</td>\n",
       "      <td>0</td>\n",
       "      <td>0</td>\n",
       "      <td>0</td>\n",
       "      <td>0</td>\n",
       "      <td>1</td>\n",
       "    </tr>\n",
       "    <tr>\n",
       "      <th>4</th>\n",
       "      <td>29759</td>\n",
       "      <td>14.0</td>\n",
       "      <td>3.5</td>\n",
       "      <td>1</td>\n",
       "      <td>0</td>\n",
       "      <td>1024</td>\n",
       "      <td>32.0</td>\n",
       "      <td>1</td>\n",
       "      <td>0</td>\n",
       "      <td>0</td>\n",
       "      <td>0</td>\n",
       "      <td>0</td>\n",
       "      <td>0</td>\n",
       "      <td>0</td>\n",
       "      <td>0</td>\n",
       "      <td>1</td>\n",
       "    </tr>\n",
       "  </tbody>\n",
       "</table>\n",
       "</div>"
      ],
      "text/plain": [
       "   PRICE  NO_OF_PROCESSOR_CORES  PROCESSOR_SPEED  GPU_MODEL  OPERATING_SYSTEM  \\\n",
       "0   7199                    2.0              3.0          0                 0   \n",
       "1  12767                   10.0              3.3          0                 0   \n",
       "2  10873                    6.0              2.1          0                 0   \n",
       "3  20599                   12.0              3.3          1                 0   \n",
       "4  29759                   14.0              3.5          1                 0   \n",
       "\n",
       "   DISC_CAPACITY   RAM   1920 x 1080   1920 x 1200   2560 x 1440  Asus  \\\n",
       "0            256   4.0             1             0             0     1   \n",
       "1            512  16.0             1             0             0     0   \n",
       "2            512  16.0             1             0             0     0   \n",
       "3           1024  32.0             1             0             0     0   \n",
       "4           1024  32.0             1             0             0     0   \n",
       "\n",
       "   Casper  Dell  HP  Lenovo  Monster  \n",
       "0       0     0   0       0        0  \n",
       "1       0     0   0       0        1  \n",
       "2       0     0   0       1        0  \n",
       "3       0     0   0       0        1  \n",
       "4       0     0   0       0        1  "
      ]
     },
     "execution_count": 56,
     "metadata": {},
     "output_type": "execute_result"
    }
   ],
   "source": [
    "screen_res = pd.get_dummies(regression['SCREEN_RESOLUTION'], drop_first = True)\n",
    "brand = pd.get_dummies(regression['BRAND'], drop_first = True)\n",
    "regression = regression.join(screen_res)\n",
    "regression = regression.join(brand)\n",
    "regression['DISC_CAPACITY'] = regression['DISC_CAPACITY'].astype('int')\n",
    "regression.drop(['BRAND','SCREEN_RESOLUTION'], axis = 1, inplace = True)\n",
    "\n",
    "regression.head()"
   ]
  },
  {
   "cell_type": "code",
   "execution_count": 57,
   "id": "dda9efd7",
   "metadata": {
    "scrolled": false
   },
   "outputs": [
    {
     "name": "stdout",
     "output_type": "stream",
     "text": [
      "<class 'pandas.core.frame.DataFrame'>\n",
      "RangeIndex: 749 entries, 0 to 748\n",
      "Data columns (total 16 columns):\n",
      " #   Column                 Non-Null Count  Dtype  \n",
      "---  ------                 --------------  -----  \n",
      " 0   PRICE                  749 non-null    int64  \n",
      " 1   NO_OF_PROCESSOR_CORES  749 non-null    float64\n",
      " 2   PROCESSOR_SPEED        749 non-null    float64\n",
      " 3   GPU_MODEL              749 non-null    int64  \n",
      " 4   OPERATING_SYSTEM       749 non-null    int64  \n",
      " 5   DISC_CAPACITY          749 non-null    int32  \n",
      " 6   RAM                    749 non-null    float64\n",
      " 7    1920 x 1080           749 non-null    uint8  \n",
      " 8    1920 x 1200           749 non-null    uint8  \n",
      " 9    2560 x 1440           749 non-null    uint8  \n",
      " 10  Asus                   749 non-null    uint8  \n",
      " 11  Casper                 749 non-null    uint8  \n",
      " 12  Dell                   749 non-null    uint8  \n",
      " 13  HP                     749 non-null    uint8  \n",
      " 14  Lenovo                 749 non-null    uint8  \n",
      " 15  Monster                749 non-null    uint8  \n",
      "dtypes: float64(3), int32(1), int64(3), uint8(9)\n",
      "memory usage: 44.7 KB\n"
     ]
    }
   ],
   "source": [
    "regression.info()"
   ]
  },
  {
   "cell_type": "code",
   "execution_count": 58,
   "id": "dbc0dad1",
   "metadata": {
    "scrolled": false
   },
   "outputs": [
    {
     "data": {
      "text/html": [
       "<table class=\"simpletable\">\n",
       "<caption>OLS Regression Results</caption>\n",
       "<tr>\n",
       "  <th>Dep. Variable:</th>          <td>PRICE</td>      <th>  R-squared:         </th> <td>   0.753</td> \n",
       "</tr>\n",
       "<tr>\n",
       "  <th>Model:</th>                   <td>OLS</td>       <th>  Adj. R-squared:    </th> <td>   0.748</td> \n",
       "</tr>\n",
       "<tr>\n",
       "  <th>Method:</th>             <td>Least Squares</td>  <th>  F-statistic:       </th> <td>   149.3</td> \n",
       "</tr>\n",
       "<tr>\n",
       "  <th>Date:</th>             <td>Tue, 21 Mar 2023</td> <th>  Prob (F-statistic):</th> <td>6.68e-211</td>\n",
       "</tr>\n",
       "<tr>\n",
       "  <th>Time:</th>                 <td>17:50:15</td>     <th>  Log-Likelihood:    </th> <td> -7286.5</td> \n",
       "</tr>\n",
       "<tr>\n",
       "  <th>No. Observations:</th>      <td>   749</td>      <th>  AIC:               </th> <td>1.461e+04</td>\n",
       "</tr>\n",
       "<tr>\n",
       "  <th>Df Residuals:</th>          <td>   733</td>      <th>  BIC:               </th> <td>1.468e+04</td>\n",
       "</tr>\n",
       "<tr>\n",
       "  <th>Df Model:</th>              <td>    15</td>      <th>                     </th>     <td> </td>    \n",
       "</tr>\n",
       "<tr>\n",
       "  <th>Covariance Type:</th>      <td>nonrobust</td>    <th>                     </th>     <td> </td>    \n",
       "</tr>\n",
       "</table>\n",
       "<table class=\"simpletable\">\n",
       "<tr>\n",
       "            <td></td>               <th>coef</th>     <th>std err</th>      <th>t</th>      <th>P>|t|</th>  <th>[0.025</th>    <th>0.975]</th>  \n",
       "</tr>\n",
       "<tr>\n",
       "  <th>const</th>                 <td>-4516.5214</td> <td> 1906.786</td> <td>   -2.369</td> <td> 0.018</td> <td>-8259.934</td> <td> -773.109</td>\n",
       "</tr>\n",
       "<tr>\n",
       "  <th>NO_OF_PROCESSOR_CORES</th> <td>  481.2839</td> <td>   66.750</td> <td>    7.210</td> <td> 0.000</td> <td>  350.239</td> <td>  612.328</td>\n",
       "</tr>\n",
       "<tr>\n",
       "  <th>PROCESSOR_SPEED</th>       <td> 2129.1380</td> <td>  395.690</td> <td>    5.381</td> <td> 0.000</td> <td> 1352.317</td> <td> 2905.959</td>\n",
       "</tr>\n",
       "<tr>\n",
       "  <th>GPU_MODEL</th>             <td> 5117.2280</td> <td>  342.445</td> <td>   14.943</td> <td> 0.000</td> <td> 4444.939</td> <td> 5789.517</td>\n",
       "</tr>\n",
       "<tr>\n",
       "  <th>OPERATING_SYSTEM</th>      <td> 4306.2839</td> <td>  324.551</td> <td>   13.268</td> <td> 0.000</td> <td> 3669.125</td> <td> 4943.443</td>\n",
       "</tr>\n",
       "<tr>\n",
       "  <th>DISC_CAPACITY</th>         <td>    2.2878</td> <td>    0.327</td> <td>    6.989</td> <td> 0.000</td> <td>    1.645</td> <td>    2.930</td>\n",
       "</tr>\n",
       "<tr>\n",
       "  <th>RAM</th>                   <td>  156.3760</td> <td>   14.690</td> <td>   10.645</td> <td> 0.000</td> <td>  127.537</td> <td>  185.215</td>\n",
       "</tr>\n",
       "<tr>\n",
       "  <th> 1920 x 1080</th>          <td> 2880.6539</td> <td> 1355.522</td> <td>    2.125</td> <td> 0.034</td> <td>  219.486</td> <td> 5541.822</td>\n",
       "</tr>\n",
       "<tr>\n",
       "  <th> 1920 x 1200</th>          <td> 1.119e+04</td> <td> 1577.746</td> <td>    7.095</td> <td> 0.000</td> <td> 8096.658</td> <td> 1.43e+04</td>\n",
       "</tr>\n",
       "<tr>\n",
       "  <th> 2560 x 1440</th>          <td> 1.709e+04</td> <td> 1614.110</td> <td>   10.590</td> <td> 0.000</td> <td> 1.39e+04</td> <td> 2.03e+04</td>\n",
       "</tr>\n",
       "<tr>\n",
       "  <th>Asus</th>                  <td> 3167.0872</td> <td> 1184.475</td> <td>    2.674</td> <td> 0.008</td> <td>  841.720</td> <td> 5492.455</td>\n",
       "</tr>\n",
       "<tr>\n",
       "  <th>Casper</th>                <td> 1053.7007</td> <td> 1297.107</td> <td>    0.812</td> <td> 0.417</td> <td>-1492.787</td> <td> 3600.189</td>\n",
       "</tr>\n",
       "<tr>\n",
       "  <th>Dell</th>                  <td> 2675.8235</td> <td> 1053.476</td> <td>    2.540</td> <td> 0.011</td> <td>  607.633</td> <td> 4744.014</td>\n",
       "</tr>\n",
       "<tr>\n",
       "  <th>HP</th>                    <td> 1488.4616</td> <td> 1029.777</td> <td>    1.445</td> <td> 0.149</td> <td> -533.201</td> <td> 3510.125</td>\n",
       "</tr>\n",
       "<tr>\n",
       "  <th>Lenovo</th>                <td> 5171.0587</td> <td>  988.280</td> <td>    5.232</td> <td> 0.000</td> <td> 3230.863</td> <td> 7111.255</td>\n",
       "</tr>\n",
       "<tr>\n",
       "  <th>Monster</th>               <td>  114.6628</td> <td> 1229.027</td> <td>    0.093</td> <td> 0.926</td> <td>-2298.170</td> <td> 2527.496</td>\n",
       "</tr>\n",
       "</table>\n",
       "<table class=\"simpletable\">\n",
       "<tr>\n",
       "  <th>Omnibus:</th>       <td>121.903</td> <th>  Durbin-Watson:     </th> <td>   1.953</td>\n",
       "</tr>\n",
       "<tr>\n",
       "  <th>Prob(Omnibus):</th> <td> 0.000</td>  <th>  Jarque-Bera (JB):  </th> <td> 255.170</td>\n",
       "</tr>\n",
       "<tr>\n",
       "  <th>Skew:</th>          <td> 0.917</td>  <th>  Prob(JB):          </th> <td>3.90e-56</td>\n",
       "</tr>\n",
       "<tr>\n",
       "  <th>Kurtosis:</th>      <td> 5.193</td>  <th>  Cond. No.          </th> <td>1.64e+04</td>\n",
       "</tr>\n",
       "</table><br/><br/>Notes:<br/>[1] Standard Errors assume that the covariance matrix of the errors is correctly specified.<br/>[2] The condition number is large, 1.64e+04. This might indicate that there are<br/>strong multicollinearity or other numerical problems."
      ],
      "text/plain": [
       "<class 'statsmodels.iolib.summary.Summary'>\n",
       "\"\"\"\n",
       "                            OLS Regression Results                            \n",
       "==============================================================================\n",
       "Dep. Variable:                  PRICE   R-squared:                       0.753\n",
       "Model:                            OLS   Adj. R-squared:                  0.748\n",
       "Method:                 Least Squares   F-statistic:                     149.3\n",
       "Date:                Tue, 21 Mar 2023   Prob (F-statistic):          6.68e-211\n",
       "Time:                        17:50:15   Log-Likelihood:                -7286.5\n",
       "No. Observations:                 749   AIC:                         1.461e+04\n",
       "Df Residuals:                     733   BIC:                         1.468e+04\n",
       "Df Model:                          15                                         \n",
       "Covariance Type:            nonrobust                                         \n",
       "=========================================================================================\n",
       "                            coef    std err          t      P>|t|      [0.025      0.975]\n",
       "-----------------------------------------------------------------------------------------\n",
       "const                 -4516.5214   1906.786     -2.369      0.018   -8259.934    -773.109\n",
       "NO_OF_PROCESSOR_CORES   481.2839     66.750      7.210      0.000     350.239     612.328\n",
       "PROCESSOR_SPEED        2129.1380    395.690      5.381      0.000    1352.317    2905.959\n",
       "GPU_MODEL              5117.2280    342.445     14.943      0.000    4444.939    5789.517\n",
       "OPERATING_SYSTEM       4306.2839    324.551     13.268      0.000    3669.125    4943.443\n",
       "DISC_CAPACITY             2.2878      0.327      6.989      0.000       1.645       2.930\n",
       "RAM                     156.3760     14.690     10.645      0.000     127.537     185.215\n",
       " 1920 x 1080           2880.6539   1355.522      2.125      0.034     219.486    5541.822\n",
       " 1920 x 1200           1.119e+04   1577.746      7.095      0.000    8096.658    1.43e+04\n",
       " 2560 x 1440           1.709e+04   1614.110     10.590      0.000    1.39e+04    2.03e+04\n",
       "Asus                   3167.0872   1184.475      2.674      0.008     841.720    5492.455\n",
       "Casper                 1053.7007   1297.107      0.812      0.417   -1492.787    3600.189\n",
       "Dell                   2675.8235   1053.476      2.540      0.011     607.633    4744.014\n",
       "HP                     1488.4616   1029.777      1.445      0.149    -533.201    3510.125\n",
       "Lenovo                 5171.0587    988.280      5.232      0.000    3230.863    7111.255\n",
       "Monster                 114.6628   1229.027      0.093      0.926   -2298.170    2527.496\n",
       "==============================================================================\n",
       "Omnibus:                      121.903   Durbin-Watson:                   1.953\n",
       "Prob(Omnibus):                  0.000   Jarque-Bera (JB):              255.170\n",
       "Skew:                           0.917   Prob(JB):                     3.90e-56\n",
       "Kurtosis:                       5.193   Cond. No.                     1.64e+04\n",
       "==============================================================================\n",
       "\n",
       "Notes:\n",
       "[1] Standard Errors assume that the covariance matrix of the errors is correctly specified.\n",
       "[2] The condition number is large, 1.64e+04. This might indicate that there are\n",
       "strong multicollinearity or other numerical problems.\n",
       "\"\"\""
      ]
     },
     "execution_count": 58,
     "metadata": {},
     "output_type": "execute_result"
    }
   ],
   "source": [
    "x = regression.drop(['PRICE'], axis = 1)\n",
    "y = regression['PRICE']\n",
    "\n",
    "x_constant = sm.add_constant(x)\n",
    "model = sm.OLS(y, x_constant)\n",
    "\n",
    "fit = model.fit()\n",
    "\n",
    "fit.summary()"
   ]
  },
  {
   "cell_type": "code",
   "execution_count": 59,
   "id": "187d9418",
   "metadata": {},
   "outputs": [],
   "source": [
    "# Looking at the p-values, everything seems fine."
   ]
  },
  {
   "cell_type": "code",
   "execution_count": 60,
   "id": "3c0f67ca",
   "metadata": {},
   "outputs": [],
   "source": [
    "from sklearn.model_selection import train_test_split\n",
    "from sklearn.linear_model import LinearRegression, Ridge, Lasso\n",
    "from sklearn.preprocessing import StandardScaler, MinMaxScaler, PolynomialFeatures\n",
    "from sklearn.pipeline import Pipeline"
   ]
  },
  {
   "cell_type": "code",
   "execution_count": 61,
   "id": "8c0e4bc4",
   "metadata": {
    "scrolled": false
   },
   "outputs": [
    {
     "name": "stdout",
     "output_type": "stream",
     "text": [
      "x_train: (599, 15)\n",
      "y_train: (599,)\n",
      "x_test: (150, 15)\n",
      "y_test (150,)\n"
     ]
    }
   ],
   "source": [
    "# Train-Test\n",
    "X = regression.drop(['PRICE'], axis = 1)\n",
    "y = regression['PRICE']\n",
    "\n",
    "x_train, x_test, y_train, y_test = train_test_split(X, y, test_size = 0.2, random_state = 12)\n",
    "\n",
    "print(\"x_train:\", x_train.shape)\n",
    "print(\"y_train:\", y_train.shape)\n",
    "print(\"x_test:\", x_test.shape)\n",
    "print(\"y_test\", y_test.shape)"
   ]
  },
  {
   "cell_type": "code",
   "execution_count": 62,
   "id": "352242f7",
   "metadata": {},
   "outputs": [],
   "source": [
    "# Linear Regression"
   ]
  },
  {
   "cell_type": "code",
   "execution_count": 63,
   "id": "de1a2ee8",
   "metadata": {},
   "outputs": [
    {
     "data": {
      "text/plain": [
       "0.7915096790770548"
      ]
     },
     "execution_count": 63,
     "metadata": {},
     "output_type": "execute_result"
    }
   ],
   "source": [
    "scaler = StandardScaler()\n",
    "\n",
    "x_train_scaled = scaler.fit_transform(x_train)\n",
    "x_test_scaled = scaler.transform(x_test)\n",
    "\n",
    "# Only the training set is transformed by using .fit_transform(), because we are fitting the train data only.\n",
    "\n",
    "reg = LinearRegression()\n",
    "reg.fit(x_train_scaled, y_train)\n",
    "reg.score(x_test_scaled, y_test)"
   ]
  },
  {
   "cell_type": "code",
   "execution_count": 64,
   "id": "db3ee236",
   "metadata": {
    "scrolled": true
   },
   "outputs": [
    {
     "data": {
      "text/plain": [
       "0.7915096790770548"
      ]
     },
     "execution_count": 64,
     "metadata": {},
     "output_type": "execute_result"
    }
   ],
   "source": [
    "steps = [\n",
    "    ('standardize', StandardScaler()),\n",
    "    ('reg', LinearRegression())]\n",
    "\n",
    "pipe = Pipeline(steps)\n",
    "pipe.fit(x_train,y_train)\n",
    "pipe.score(x_test,y_test)"
   ]
  },
  {
   "cell_type": "code",
   "execution_count": 65,
   "id": "508dc30f",
   "metadata": {},
   "outputs": [],
   "source": [
    "# Polynomial Regression"
   ]
  },
  {
   "cell_type": "code",
   "execution_count": 66,
   "id": "94749135",
   "metadata": {},
   "outputs": [
    {
     "name": "stdout",
     "output_type": "stream",
     "text": [
      "Polynomial Degree: 1, Score: 0.792\n",
      "Polynomial Degree: 2, Score: 0.814\n",
      "Polynomial Degree: 3, Score: -1293478.956\n"
     ]
    },
    {
     "data": {
      "image/png": "[encoded data removed]",
      "text/plain": [
       "<Figure size 432x288 with 1 Axes>"
      ]
     },
     "metadata": {
      "needs_background": "light"
     },
     "output_type": "display_data"
    }
   ],
   "source": [
    "scores = []\n",
    "poly_degrees = 3\n",
    "\n",
    "for degree in range(1, poly_degrees+1):\n",
    "    \n",
    "    poly = PolynomialFeatures(degree = degree)\n",
    "    \n",
    "    x_train_poly = poly.fit_transform(x_train.values)\n",
    "    x_test_poly = poly.transform(x_test.values)\n",
    "    \n",
    "    lm_poly = LinearRegression()\n",
    "\n",
    "    lm_poly.fit(x_train_poly, y_train)\n",
    "\n",
    "    scores.append(lm_poly.score(x_test_poly, y_test))\n",
    "\n",
    "# Sonuçları inceleme    \n",
    "for degree, score in enumerate(scores):\n",
    "    print(f\"Polynomial Degree: {degree+1}, Score: {score:.3f}\")\n",
    "\n",
    "p = sns.lineplot(x = range(1,4), y = scores, linewidth = 2, linestyle = '--', color = 'black')\n",
    "p.set_xlabel('Polynomial Degree', fontsize = 14)\n",
    "p.set_ylabel('Score', fontsize = 14)\n",
    "\n",
    "plt.show()"
   ]
  },
  {
   "cell_type": "code",
   "execution_count": 67,
   "id": "7f9d4a04",
   "metadata": {},
   "outputs": [],
   "source": [
    "# Lasso Regression"
   ]
  },
  {
   "cell_type": "code",
   "execution_count": 68,
   "id": "c00ffcea",
   "metadata": {
    "scrolled": true
   },
   "outputs": [
    {
     "name": "stdout",
     "output_type": "stream",
     "text": [
      "Maximum Lasso Score : 0.7948276470592263\n",
      "Alpha value for obtaining that score : 21.62\n"
     ]
    },
    {
     "data": {
      "image/png": "[encoded data removed]",
      "text/plain": [
       "<Figure size 432x288 with 1 Axes>"
      ]
     },
     "metadata": {
      "needs_background": "light"
     },
     "output_type": "display_data"
    }
   ],
   "source": [
    "alpha_list = [*np.linspace(0.001,300,1000)]\n",
    "scores = []\n",
    "for iterate_alpha in alpha_list:\n",
    "\n",
    "    steps = [\n",
    "        ('standardize', StandardScaler()),\n",
    "        ('lasso', Lasso(alpha = iterate_alpha))]\n",
    "    \n",
    "    pipe = Pipeline(steps)\n",
    "    pipe.fit(x_train,y_train)\n",
    "    score = pipe.score(x_test,y_test)\n",
    "    scores.append(score)\n",
    "\n",
    "p = sns.lineplot(x = alpha_list, y = scores, linewidth = 2, linestyle = '--', color = 'black')\n",
    "p.set_xlabel('Alpha Coefficient', fontsize = 14)\n",
    "p.set_ylabel('Score', fontsize = 14)\n",
    "\n",
    "print('Maximum Lasso Score :', np.max(scores))\n",
    "print('Alpha value for obtaining that score :', round(alpha_list[np.argmax(scores)], 2))"
   ]
  },
  {
   "cell_type": "code",
   "execution_count": 69,
   "id": "1974a433",
   "metadata": {},
   "outputs": [],
   "source": [
    "# Ridge Regression"
   ]
  },
  {
   "cell_type": "code",
   "execution_count": 70,
   "id": "fbaa93bf",
   "metadata": {
    "scrolled": false
   },
   "outputs": [
    {
     "name": "stdout",
     "output_type": "stream",
     "text": [
      "Maximum Ridge Score : 0.7941701347077195\n",
      "Alpha value for obtaining that score : 19.22\n"
     ]
    },
    {
     "data": {
      "image/png": "[encoded data removed]",
      "text/plain": [
       "<Figure size 432x288 with 1 Axes>"
      ]
     },
     "metadata": {
      "needs_background": "light"
     },
     "output_type": "display_data"
    }
   ],
   "source": [
    "alpha_list = [*np.linspace(0.001,300,1000)]\n",
    "scores = []\n",
    "for iterate_alpha in alpha_list:\n",
    "\n",
    "    steps = [\n",
    "        ('standardize', StandardScaler()),\n",
    "        ('ridge', Ridge(alpha = iterate_alpha))]\n",
    "    \n",
    "    pipe = Pipeline(steps)\n",
    "    pipe.fit(x_train,y_train)\n",
    "    score = pipe.score(x_test,y_test)\n",
    "    scores.append(score)\n",
    "\n",
    "p = sns.lineplot(x = alpha_list, y = scores, linewidth = 2, linestyle = '--', color = 'black')\n",
    "p.set_xlabel('Alpha Coefficient', fontsize = 14)\n",
    "p.set_ylabel('Score', fontsize = 14)\n",
    "\n",
    "print('Maximum Ridge Score :', np.max(scores))\n",
    "print('Alpha value for obtaining that score :', round(alpha_list[np.argmax(scores)], 2))"
   ]
  },
  {
   "cell_type": "code",
   "execution_count": 71,
   "id": "b1e65878",
   "metadata": {},
   "outputs": [
    {
     "name": "stdout",
     "output_type": "stream",
     "text": [
      "R^2 : 0.8139341800779194\n"
     ]
    }
   ],
   "source": [
    "polynomial = PolynomialFeatures(degree = 2)\n",
    "    \n",
    "x_train_poly = polynomial.fit_transform(x_train)\n",
    "x_test_poly = polynomial.transform(x_test)\n",
    "\n",
    "model = LinearRegression()\n",
    "\n",
    "model.fit(x_train_poly, y_train)\n",
    "print('R^2 :',model.score(x_test_poly, y_test))"
   ]
  },
  {
   "cell_type": "code",
   "execution_count": 72,
   "id": "8fc170d7",
   "metadata": {},
   "outputs": [
    {
     "data": {
      "text/html": [
       "<div>\n",
       "<style scoped>\n",
       "    .dataframe tbody tr th:only-of-type {\n",
       "        vertical-align: middle;\n",
       "    }\n",
       "\n",
       "    .dataframe tbody tr th {\n",
       "        vertical-align: top;\n",
       "    }\n",
       "\n",
       "    .dataframe thead th {\n",
       "        text-align: right;\n",
       "    }\n",
       "</style>\n",
       "<table border=\"1\" class=\"dataframe\">\n",
       "  <thead>\n",
       "    <tr style=\"text-align: right;\">\n",
       "      <th></th>\n",
       "      <th>Actual Values</th>\n",
       "      <th>Predictions</th>\n",
       "      <th>Error</th>\n",
       "      <th>Error %</th>\n",
       "    </tr>\n",
       "  </thead>\n",
       "  <tbody>\n",
       "    <tr>\n",
       "      <th>0</th>\n",
       "      <td>43276</td>\n",
       "      <td>42281.153971</td>\n",
       "      <td>994.846029</td>\n",
       "      <td>2.298840</td>\n",
       "    </tr>\n",
       "    <tr>\n",
       "      <th>1</th>\n",
       "      <td>27964</td>\n",
       "      <td>21167.512078</td>\n",
       "      <td>6796.487922</td>\n",
       "      <td>24.304420</td>\n",
       "    </tr>\n",
       "    <tr>\n",
       "      <th>2</th>\n",
       "      <td>29299</td>\n",
       "      <td>24270.855239</td>\n",
       "      <td>5028.144761</td>\n",
       "      <td>17.161489</td>\n",
       "    </tr>\n",
       "    <tr>\n",
       "      <th>3</th>\n",
       "      <td>13587</td>\n",
       "      <td>17582.914420</td>\n",
       "      <td>3995.914420</td>\n",
       "      <td>29.409836</td>\n",
       "    </tr>\n",
       "    <tr>\n",
       "      <th>4</th>\n",
       "      <td>43341</td>\n",
       "      <td>43358.537033</td>\n",
       "      <td>17.537033</td>\n",
       "      <td>0.040463</td>\n",
       "    </tr>\n",
       "  </tbody>\n",
       "</table>\n",
       "</div>"
      ],
      "text/plain": [
       "   Actual Values   Predictions        Error    Error %\n",
       "0          43276  42281.153971   994.846029   2.298840\n",
       "1          27964  21167.512078  6796.487922  24.304420\n",
       "2          29299  24270.855239  5028.144761  17.161489\n",
       "3          13587  17582.914420  3995.914420  29.409836\n",
       "4          43341  43358.537033    17.537033   0.040463"
      ]
     },
     "execution_count": 72,
     "metadata": {},
     "output_type": "execute_result"
    }
   ],
   "source": [
    "d = {'Actual Values': y_test.values, 'Predictions': model.predict(x_test_poly)}\n",
    "df_plot = pd.DataFrame(data = d)\n",
    "df_plot['Error'] = np.abs(df_plot['Actual Values'] - df_plot['Predictions'])\n",
    "df_plot['Error %'] = df_plot['Error'] * 100 / df_plot['Actual Values']\n",
    "df_plot.head()"
   ]
  },
  {
   "cell_type": "code",
   "execution_count": 73,
   "id": "8fcb6387",
   "metadata": {
    "scrolled": false
   },
   "outputs": [
    {
     "data": {
      "text/plain": [
       "count       46.000000\n",
       "mean     17265.326087\n",
       "std       8116.653720\n",
       "min       7999.000000\n",
       "25%      10203.250000\n",
       "50%      16004.500000\n",
       "75%      21817.750000\n",
       "max      41223.000000\n",
       "Name: Actual Values, dtype: float64"
      ]
     },
     "execution_count": 73,
     "metadata": {},
     "output_type": "execute_result"
    }
   ],
   "source": [
    "df_plot[df_plot['Error %'] > 20]['Actual Values'].describe()\n",
    "# From here we can see that our regression model came short predicting 'low priced laptops'.\n",
    "# However, looking at the overall, 0.814 is a good score."
   ]
  },
  {
   "cell_type": "code",
   "execution_count": 74,
   "id": "ef4d9880",
   "metadata": {},
   "outputs": [],
   "source": [
    "# Lets define a function which uses my linear regression model to predict laptop prices with specific features.\n",
    "\n",
    "def predict_prices(array):\n",
    "    \n",
    "    \"\"\"\n",
    "    \n",
    "    This function takes an array with 16 indexes.\n",
    "    Those indexes represents the laptop properties with a given order.\n",
    "    No of processor cores, Processor speed, Gpu model, Operating system, Disc Capacity, Ram,\n",
    "    \n",
    "    'Next three indexes are dummies for Screen Resolution'\n",
    "    1920 x 1080, 1920 x 1200, 2560 x 1440, enter 1 for your screen resolution and the rest is 0, if \n",
    "    the screen resolution is 1366 x 768, then enter 0 for all screen resolutions. \n",
    "    \n",
    "    'Next six indexes are dummies for Brand'\n",
    "    Asus, Casper, Dell, HP, Lenovo, Monster, enter 1 for your brand and rest is 0, if the brand\n",
    "    is Acer, then enter 0 for all brands.\n",
    "    \n",
    "    This function takes an array of (15,1) shape as input.\n",
    "    \n",
    "    \"\"\"\n",
    "    polynomial = PolynomialFeatures(degree = 2)\n",
    "    \n",
    "    x_train_poly = polynomial.fit_transform(x_train.values)\n",
    "    array_transposed = array.transpose()\n",
    "    array_transposed_poly = polynomial.transform(array_transposed)\n",
    "    \n",
    "    model = LinearRegression()\n",
    "    model.fit(x_train_poly, y_train)\n",
    "    \n",
    "    return model.predict(array_transposed_poly)[0]"
   ]
  },
  {
   "cell_type": "code",
   "execution_count": 75,
   "id": "b17ed094",
   "metadata": {},
   "outputs": [
    {
     "data": {
      "text/plain": [
       "(15, 1)"
      ]
     },
     "execution_count": 75,
     "metadata": {},
     "output_type": "execute_result"
    }
   ],
   "source": [
    "# Lets predict a laptop with 8 processor cores, 3.3 GHz of processor speed with unshared graphic card, Windows downloaded,\n",
    "# Disc capacity of 512 GB, 32 GB Ram, Screen resolution of 2560 x 1440.\n",
    "# And assume this laptops brand is Lenovo\n",
    "\n",
    "array = np.array([8, 3.3, 1, 1, 512, 32, 0, 0, 1, 0, 0, 0, 0, 1, 0]).reshape(-1,1)\n",
    "array.shape"
   ]
  },
  {
   "cell_type": "code",
   "execution_count": 1,
   "id": "2391823f",
   "metadata": {},
   "outputs": [
    {
     "data": {
      "text/html": [
       "\n",
       "        <iframe\n",
       "            width=\"600\"\n",
       "            height=\"300\"\n",
       "            src=\"lenovo_price.pdf\"\n",
       "            frameborder=\"0\"\n",
       "            allowfullscreen\n",
       "            \n",
       "        ></iframe>\n",
       "        "
      ],
      "text/plain": [
       "<IPython.lib.display.IFrame at 0x1f304df0280>"
      ]
     },
     "execution_count": 1,
     "metadata": {},
     "output_type": "execute_result"
    }
   ],
   "source": [
    "from IPython.display import IFrame\n",
    "IFrame(\"lenovo_price.pdf\", width=600, height=300)"
   ]
  },
  {
   "cell_type": "code",
   "execution_count": 77,
   "id": "8a2c7349",
   "metadata": {
    "scrolled": true
   },
   "outputs": [
    {
     "data": {
      "text/plain": [
       "34157.151216719285"
      ]
     },
     "execution_count": 77,
     "metadata": {},
     "output_type": "execute_result"
    }
   ],
   "source": [
    "predict_prices(array)\n",
    "\n",
    "# My model predicts 34157 TL for a product originally 34999 TL in a different website."
   ]
  }
 ],
 "metadata": {
  "kernelspec": {
   "display_name": "Python 3 (ipykernel)",
   "language": "python",
   "name": "python3"
  },
  "language_info": {
   "codemirror_mode": {
    "name": "ipython",
    "version": 3
   },
   "file_extension": ".py",
   "mimetype": "text/x-python",
   "name": "python",
   "nbconvert_exporter": "python",
   "pygments_lexer": "ipython3",
   "version": "3.9.16"
  }
 },
 "nbformat": 4,
 "nbformat_minor": 5
}
